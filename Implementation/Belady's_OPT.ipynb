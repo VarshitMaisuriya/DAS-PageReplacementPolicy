{
  "nbformat": 4,
  "nbformat_minor": 0,
  "metadata": {
    "colab": {
      "name": "Belady's OPT.ipynb",
      "provenance": []
    },
    "kernelspec": {
      "name": "python3",
      "display_name": "Python 3"
    },
    "language_info": {
      "name": "python"
    }
  },
  "cells": [
    {
      "cell_type": "markdown",
      "metadata": {
        "id": "wh2MFV1PG11h"
      },
      "source": [
        "**belady's optimal replacement algorithm**"
      ]
    },
    {
      "cell_type": "code",
      "metadata": {
        "id": "zphfe0WbGeno"
      },
      "source": [
        "import numpy as np\n",
        "import pandas as pd\n",
        "import matplotlib.pyplot as plt\n",
        "from collections import deque, defaultdict, Counter\n",
        "from tqdm import tqdm_notebook as tqdm \n",
        "\n",
        "#finding the block which is avaialble in future\n",
        "def findfar(blk, frm):\n",
        "    farthest = 0\n",
        "    far_ind = {}\n",
        "    nomore = []\n",
        "    for v in frm:\n",
        "        if v not in blk:\n",
        "            far_ind[v] = -1\n",
        "        elif v in blk:\n",
        "            far_ind[v] = blk.index(v)\n",
        "    srtdlst = sorted(far_ind.items(), key=lambda item:item[1], reverse= True)\n",
        "\n",
        "    for (k,v) in srtdlst:\n",
        "        if v == -1:\n",
        "            nomore.append(k)\n",
        "    if nomore:\n",
        "        return nomore[0]\n",
        "    else:\n",
        "        return srtdlst[0][0]\n",
        "    \n",
        "\n",
        "#Offline optimal page replacemnt algorithm\n",
        "def OPT(blk,size):\n",
        "    frame = set()\n",
        "    hits = 0\n",
        "    misses = 0\n",
        "    isfull = False\n",
        "    \n",
        "    for i,b in enumerate(blk):\n",
        "        \n",
        "        if b not in frame:\n",
        "            misses += 1\n",
        "\n",
        "            if len(frame) == size:\n",
        "                isfull = True\n",
        "            if not isfull:\n",
        "                frame.add(b)\n",
        "            else:\n",
        "                farthest = findfar(blk[i+1:], frame)\n",
        "                frame.discard(farthest)\n",
        "                frame.add(b)\n",
        "        else:\n",
        "            hits += 1\n",
        "    return hits/(hits+misses)"
      ],
      "execution_count": null,
      "outputs": []
    }
  ]
}