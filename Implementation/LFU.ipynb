{
  "nbformat": 4,
  "nbformat_minor": 0,
  "metadata": {
    "colab": {
      "name": "LFU.ipynb",
      "provenance": []
    },
    "kernelspec": {
      "name": "python3",
      "display_name": "Python 3"
    },
    "language_info": {
      "name": "python"
    }
  },
  "cells": [
    {
      "cell_type": "markdown",
      "metadata": {
        "id": "wh2MFV1PG11h"
      },
      "source": [
        "**Least Frequently Used**"
      ]
    },
    {
      "cell_type": "code",
      "metadata": {
        "id": "zphfe0WbGeno"
      },
      "source": [
        "import numpy as np\n",
        "import pandas as pd\n",
        "import matplotlib.pyplot as plt\n",
        "from collections import deque, defaultdict, Counter\n",
        "from tqdm import tqdm_notebook as tqdm \n",
        "\n",
        "def LFU(accesses,size):\n",
        "\n",
        "    hit = 0\n",
        "    miss = 0\n",
        "    \n",
        "    freq_cache = defaultdict(int)   #holds the frequency of all elements \n",
        "    freq = defaultdict(int)         #holds the frequency of elements present in cache\n",
        "    \n",
        "    cache = set()\n",
        "    \n",
        "    for block in accesses:\n",
        "        freq[block] += 1\n",
        "      \n",
        "        if block in cache:\n",
        "            hit += 1\n",
        "            freq_cache[block] += 1\n",
        "        \n",
        "        elif len(cache) < size:\n",
        "            cache.add(block)\n",
        "            freq_cache[block] += 1\n",
        "            miss += 1\n",
        "\n",
        "        else:\n",
        "            x, y = min(freq_cache.items(), key=lambda a: a[1])\n",
        "            freq_cache.pop(x)\n",
        "            cache.remove(x)\n",
        "            cache.add(block)\n",
        "            freq_cache[block] = freq[block]\n",
        "            miss += 1\n",
        "        #print(cache)\n",
        "    hit_rate = hit / ( hit + miss )\n",
        "    return hit_rate"
      ],
      "execution_count": null,
      "outputs": []
    }
  ]
}