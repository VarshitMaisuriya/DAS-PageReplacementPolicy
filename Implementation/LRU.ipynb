{
  "nbformat": 4,
  "nbformat_minor": 0,
  "metadata": {
    "colab": {
      "name": "LRU.ipynb",
      "provenance": []
    },
    "kernelspec": {
      "name": "python3",
      "display_name": "Python 3"
    },
    "language_info": {
      "name": "python"
    }
  },
  "cells": [
    {
      "cell_type": "markdown",
      "metadata": {
        "id": "wh2MFV1PG11h"
      },
      "source": [
        "**Least Recently Used**"
      ]
    },
    {
      "cell_type": "code",
      "metadata": {
        "id": "zphfe0WbGeno"
      },
      "source": [
        "import numpy as np\n",
        "import pandas as pd\n",
        "import matplotlib.pyplot as plt\n",
        "from collections import deque, defaultdict, Counter\n",
        "from tqdm import tqdm_notebook as tqdm \n",
        "\n",
        "def LRU(accesses,size) :\n",
        "  hit = 0\n",
        "  miss = 0\n",
        "  cache = set()\n",
        "  recent_items = deque()\n",
        "\n",
        "  for item in accesses :\n",
        "    cur_size = len(cache)\n",
        "    if item in cache :\n",
        "      hit = hit + 1\n",
        "      recent_items.remove(item)\n",
        "      recent_items.append(item)\n",
        "\n",
        "    elif cur_size < size :\n",
        "      miss = miss + 1\n",
        "      recent_items.append(item)\n",
        "      cache.add(item)\n",
        "\n",
        "    else :\n",
        "      miss = miss + 1\n",
        "      removed_item = recent_items[0]\n",
        "      recent_items.popleft()\n",
        "      cache.remove(removed_item)\n",
        "      cache.add(item)\n",
        "      recent_items.append(item)\n",
        "    #print(cache)\n",
        "\n",
        "  hit_ratio = hit / (hit+miss)   \n",
        "  return hit_ratio \n"
      ],
      "execution_count": null,
      "outputs": []
    }
  ]
}