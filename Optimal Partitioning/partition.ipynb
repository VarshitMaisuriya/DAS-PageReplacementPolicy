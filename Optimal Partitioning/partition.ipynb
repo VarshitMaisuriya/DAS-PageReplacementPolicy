{
  "nbformat": 4,
  "nbformat_minor": 0,
  "metadata": {
    "colab": {
      "name": "partition.ipynb",
      "provenance": [],
      "collapsed_sections": []
    },
    "kernelspec": {
      "name": "python3",
      "display_name": "Python 3"
    },
    "language_info": {
      "name": "python"
    }
  },
  "cells": [
    {
      "cell_type": "code",
      "metadata": {
        "id": "8pqqQYUJn5xm"
      },
      "source": [
        "import numpy as np\n",
        "import pandas as pd\n",
        "import matplotlib.pyplot as plt\n",
        "from collections import deque, defaultdict"
      ],
      "execution_count": 1,
      "outputs": []
    },
    {
      "cell_type": "code",
      "metadata": {
        "id": "kReSoEBKtD2n"
      },
      "source": [
        "#trace file conversion\n",
        "\n",
        "def list_dec(f1) :\n",
        "  l = f1.readlines();\n",
        "  ref = [];\n",
        "  for i in l :\n",
        "    j = int(i,16);\n",
        "    ref.append(j);\n",
        "  return ref;\n",
        "\n",
        "def list_trace(f1) :\n",
        "  l = f1.readlines();\n",
        "  ref = [];\n",
        "  for i in l :\n",
        "    s = i[2:12];\n",
        "    j = int(s,16);\n",
        "    ref.append(j);\n",
        "  return ref;\n",
        "\n"
      ],
      "execution_count": 2,
      "outputs": []
    },
    {
      "cell_type": "code",
      "metadata": {
        "id": "4zRXdrOFs7PL"
      },
      "source": [
        "def DAS(accesses,size,lru_percent):\n",
        "  # LRU portion and LFU portion..\n",
        "  LRU_size = (int)(lru_percent*size)\n",
        "  LFU_size = size-LRU_size\n",
        "\n",
        "  #print(LRU_size);\n",
        "  #print(LFU_size);\n",
        "  # variables to keep track of hits..\n",
        "  hits = miss = 0;\n",
        "  LRU_hit = LFU_hit = 0;\n",
        "\n",
        "  # LRU and LFU cache..\n",
        "  LRU_cache = deque();\n",
        "  LFU_cache = deque();\n",
        "\n",
        "  # map for storing frequencies..\n",
        "  LRU_freq = defaultdict(int);\n",
        "  LFU_freq = defaultdict(int);\n",
        "  freq = defaultdict(int);\n",
        "\n",
        "  for block in accesses :\n",
        "    freq[block] = freq[block]+1;\n",
        "\n",
        "    if block not in LRU_cache and block not in LFU_cache :\n",
        "      miss = miss+1;\n",
        "      # if space is available in cache..\n",
        "      if (len(LRU_cache)+len(LFU_cache)) < size :\n",
        "        # checking for LRU..\n",
        "        if len(LRU_cache) < LRU_size :\n",
        "          LRU_cache.append(block);\n",
        "          LRU_freq[block] += 1;\n",
        "        # checking for LFU..\n",
        "        elif len(LFU_cache) < LFU_size :\n",
        "          LFU_cache.append(block);\n",
        "          LFU_freq[block] += 1;\n",
        "      # if space is not available in cache..\n",
        "      else :\n",
        "        remove_block = LRU_cache.popleft();\n",
        "        del LRU_freq[remove_block];\n",
        "        LRU_cache.append(block);\n",
        "        LRU_freq[block] = freq[block];\n",
        "\n",
        "    else :\n",
        "      hits = hits+1;\n",
        "      # present in LFU cache..\n",
        "      if block in LFU_cache :\n",
        "        LFU_freq[block] += 1;\n",
        "        LFU_hit += 1;\n",
        "      # present in LRU cache..\n",
        "      elif block in LRU_cache :\n",
        "        LRU_freq[block] += 1;\n",
        "        LRU_hit += 1;\n",
        "        # we need to check whethe it can be added to LFU or not..\n",
        "        if len(LFU_cache) < LFU_size :\n",
        "          LRU_cache.remove(block);\n",
        "          LFU_freq[block] = LRU_freq[block];\n",
        "          LFU_cache.append(block);\n",
        "          del LRU_freq[block];\n",
        "        else :\n",
        "          mini,mini_freq = min(LFU_freq.items(),key = lambda a: a[1])\n",
        "          # if minimum frequency in LFU is less than block's frequency..swap these two..\n",
        "          if mini_freq < LRU_freq[block] :\n",
        "            # adding block to LFU..\n",
        "            LRU_cache.remove(block);\n",
        "            LFU_cache.append(block);\n",
        "            LFU_freq[block] = LRU_freq[block];\n",
        "            del LRU_freq[block];\n",
        "            # adding mini to LRU..\n",
        "            LFU_cache.remove(mini);\n",
        "            LRU_cache.append(mini);\n",
        "            LRU_freq[mini] = mini_freq;\n",
        "            del LFU_freq[mini];\n",
        "\n",
        "  hit_ratio = hits/(hits+miss);\n",
        "  return hit_ratio;"
      ],
      "execution_count": 6,
      "outputs": []
    },
    {
      "cell_type": "markdown",
      "metadata": {
        "id": "YGWA4xz2sBK0"
      },
      "source": [
        "**Testing for different partitions...**"
      ]
    },
    {
      "cell_type": "code",
      "metadata": {
        "colab": {
          "base_uri": "https://localhost:8080/",
          "height": 295
        },
        "id": "KgMmtM_RsIdD",
        "outputId": "7ac8674e-83d0-4882-e7a1-42e3fc027e8a"
      },
      "source": [
        "size = [15,20,25,30,35,40,45,50]  #cache size\n",
        "partition = [ 0.2 ,0.4, 0.6,0.8]  #partition\n",
        "\n",
        "files = open('sort1','r');\n",
        "accesses = list_trace(files);   #choose the list_trace and list_dec according to the trace file\n",
        "#print(len(accesses))\n",
        "\n",
        "for pt in partition:\n",
        "  das_hit = []\n",
        "  for sz in size:\n",
        "    das_hit.append(DAS(accesses,sz,pt)*100)\n",
        "  plt.plot(size,das_hit,label = (str)(pt*100) + \"% LRU\")\n",
        "\n",
        "plt.legend()\n",
        "plt.title(\"Optimal Partitioning for Quick Sort Trace\")\n",
        "plt.xlabel(\"Cache Size\")\n",
        "plt.ylabel(\"Hit Rate\")\n",
        "plt.show();"
      ],
      "execution_count": 7,
      "outputs": [
        {
          "output_type": "display_data",
          "data": {
            "image/png": "[encoded data removed]",
            "text/plain": [
              "<Figure size 432x288 with 1 Axes>"
            ]
          },
          "metadata": {
            "tags": [],
            "needs_background": "light"
          }
        }
      ]
    }
  ]
}