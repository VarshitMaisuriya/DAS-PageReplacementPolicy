{
  "nbformat": 4,
  "nbformat_minor": 0,
  "metadata": {
    "colab": {
      "name": "LU_partition.ipynb",
      "provenance": []
    },
    "kernelspec": {
      "name": "python3",
      "display_name": "Python 3"
    },
    "language_info": {
      "name": "python"
    }
  },
  "cells": [
    {
      "cell_type": "code",
      "metadata": {
        "id": "PxJR3C-mh-K3"
      },
      "source": [
        "import numpy as np\n",
        "import pandas as pd\n",
        "import matplotlib.pyplot as plt\n",
        "from collections import deque, defaultdict"
      ],
      "execution_count": 1,
      "outputs": []
    },
    {
      "cell_type": "markdown",
      "metadata": {
        "id": "yMsHOCCbIJ8J"
      },
      "source": [
        "**Belady's OPT**"
      ]
    },
    {
      "cell_type": "code",
      "metadata": {
        "id": "UGiaNV02kocv"
      },
      "source": [
        "# function to find the next block to be evicted for OPT policy\n",
        "\n",
        "def find_farthest(cache, rem_accesses):\n",
        "  farthest = -1\n",
        "  idx_dict = {}\n",
        "\n",
        "  for blk in cache:\n",
        "    if blk not in rem_accesses:\n",
        "      farthest = blk\n",
        "      return farthest\n",
        "\n",
        "    else:\n",
        "      idx_dict[blk] = rem_accesses.index(blk)\n",
        "    \n",
        "  srt_dict = sorted(idx_dict.items(), key = lambda item: item[1], reverse = True)\n",
        "\n",
        "  return srt_dict[0][0]\n",
        "  "
      ],
      "execution_count": 2,
      "outputs": []
    },
    {
      "cell_type": "code",
      "metadata": {
        "id": "kqh7ZYZkkqsd"
      },
      "source": [
        "#Offline OPT replacement policy implementation\n",
        "\n",
        "def OPT(accesses,size):\n",
        "  cache = set()\n",
        "  hits = 0\n",
        "  misses = 0\n",
        "  isFull = False\n",
        "  \n",
        "  for i,blk in enumerate(accesses):\n",
        "\n",
        "    if blk in cache:\n",
        "      hits += 1\n",
        "      \n",
        "    else:\n",
        "      misses +=1\n",
        "\n",
        "      if (isFull == False):\n",
        "        cache.add(blk)\n",
        "        if(len(cache) == size):\n",
        "          isFull = True\n",
        "      else:\n",
        "        farthest = find_farthest(cache,accesses[i+1:])\n",
        "        cache.remove(farthest)\n",
        "        cache.add(blk)\n",
        "    #print(i+1,cache)\n",
        "\n",
        "  hit_rate = hits/(hits + misses)\n",
        "  return hit_rate"
      ],
      "execution_count": null,
      "outputs": []
    },
    {
      "cell_type": "markdown",
      "metadata": {
        "id": "Mwttjao9IOLD"
      },
      "source": [
        "**LRU**"
      ]
    },
    {
      "cell_type": "code",
      "metadata": {
        "id": "AJ8NII9Gks6k"
      },
      "source": [
        "def LRU(accesses,size) :\n",
        "  hit = 0\n",
        "  miss = 0\n",
        "  cache = set()\n",
        "  recent_items = deque()\n",
        "\n",
        "  for item in accesses :\n",
        "    cur_size = len(cache)\n",
        "    if item in cache :\n",
        "      hit = hit + 1\n",
        "      recent_items.remove(item)\n",
        "      recent_items.append(item)\n",
        "\n",
        "    elif cur_size < size :\n",
        "      miss = miss + 1\n",
        "      recent_items.append(item)\n",
        "      cache.add(item)\n",
        "\n",
        "    else :\n",
        "      miss = miss + 1\n",
        "      removed_item = recent_items[0]\n",
        "      recent_items.popleft()\n",
        "      cache.remove(removed_item)\n",
        "      cache.add(item)\n",
        "      recent_items.append(item)\n",
        "    #print(cache)\n",
        "\n",
        "  hit_ratio = hit / (hit+miss)   \n",
        "  return hit_ratio \n"
      ],
      "execution_count": null,
      "outputs": []
    },
    {
      "cell_type": "markdown",
      "metadata": {
        "id": "f4K_Bh80IRLa"
      },
      "source": [
        "**LFU**"
      ]
    },
    {
      "cell_type": "code",
      "metadata": {
        "id": "gR8rIg-9kvBb"
      },
      "source": [
        "def LFU(accesses,size):\n",
        "\n",
        "    hit = 0\n",
        "    miss = 0\n",
        "    \n",
        "    freq_cache = defaultdict(int)   #holds the frequency of all elements \n",
        "    freq = defaultdict(int)         #holds the frequency of elements present in cache\n",
        "    \n",
        "    cache = set()\n",
        "    \n",
        "    for block in accesses:\n",
        "        freq[block] += 1\n",
        "      \n",
        "        if block in cache:\n",
        "            hit += 1\n",
        "            freq_cache[block] += 1\n",
        "        \n",
        "        elif len(cache) < size:\n",
        "            cache.add(block)\n",
        "            freq_cache[block] += 1\n",
        "            miss += 1\n",
        "\n",
        "        else:\n",
        "            x, y = min(freq_cache.items(), key=lambda a: a[1])\n",
        "            freq_cache.pop(x)\n",
        "            cache.remove(x)\n",
        "            cache.add(block)\n",
        "            freq_cache[block] = freq[block]\n",
        "            miss += 1\n",
        "        #print(cache)\n",
        "    hit_rate = hit / ( hit + miss )\n",
        "    return hit_rate"
      ],
      "execution_count": null,
      "outputs": []
    },
    {
      "cell_type": "markdown",
      "metadata": {
        "id": "2EwBwOCcITO7"
      },
      "source": [
        "**DAS**"
      ]
    },
    {
      "cell_type": "code",
      "metadata": {
        "id": "_MzU9_Frk1gC"
      },
      "source": [
        "def DAS(accesses,size,partition):\n",
        "  # LRU portion and LFU portion..\n",
        "  LRU_size = (int)(partition*size)\n",
        "  LFU_size = size-LRU_size\n",
        "\n",
        "  print(LRU_size)\n",
        "  print(LFU_size)\n",
        "\n",
        "  # print(LRU_size);\n",
        "  # print(LFU_size);\n",
        "  # variables to keep track of hits..\n",
        "  hits = miss = 0;\n",
        "  LRU_hit = LFU_hit = 0;\n",
        "\n",
        "  # LRU and LFU cache..\n",
        "  LRU_cache = deque();\n",
        "  LFU_cache = deque();\n",
        "\n",
        "  # map for storing frequencies..\n",
        "  LRU_freq = defaultdict(int);\n",
        "  LFU_freq = defaultdict(int);\n",
        "  freq = defaultdict(int);\n",
        "\n",
        "  for block in accesses :\n",
        "    freq[block] = freq[block]+1;\n",
        "\n",
        "    if block not in LRU_cache and block not in LFU_cache :\n",
        "      miss = miss+1;\n",
        "      # if space is available in cache..\n",
        "      if (len(LRU_cache)+len(LFU_cache)) < size :\n",
        "        # checking for LRU..\n",
        "        if len(LFU_cache) < LFU_size :\n",
        "          LFU_cache.append(block);\n",
        "          LFU_freq[block] += 1;\n",
        "        # checking for LFU..\n",
        "        elif len(LRU_cache) < LRU_size :\n",
        "          LRU_cache.append(block);\n",
        "          LRU_freq[block] += 1;\n",
        "      # if space is not available in cache..\n",
        "      else :\n",
        "        remove_block = LRU_cache.popleft();\n",
        "        del LRU_freq[remove_block];\n",
        "        LRU_cache.append(block);\n",
        "        LRU_freq[block] = freq[block];\n",
        "\n",
        "    else :\n",
        "      hits = hits+1;\n",
        "      # present in LFU cache..\n",
        "      if block in LFU_cache :\n",
        "        LFU_freq[block] += 1;\n",
        "        LFU_hit += 1;\n",
        "      # present in LRU cache..\n",
        "      elif block in LRU_cache :\n",
        "        LRU_freq[block] += 1;\n",
        "        LRU_hit += 1;\n",
        "        # we need to check whethe it can be added to LFU or not..\n",
        "        if len(LFU_cache) < LFU_size :\n",
        "          LRU_cache.remove(block);\n",
        "          LFU_freq[block] = LRU_freq[block];\n",
        "          LFU_cache.append(block);\n",
        "          del LRU_freq[block];\n",
        "        else :\n",
        "          mini,mini_freq = min(LFU_freq.items(),key = lambda a: a[1])\n",
        "          # if minimum frequency in LFU is less than block's frequency..swap these two..\n",
        "          if mini_freq < LRU_freq[block] :\n",
        "            # adding block to LFU..\n",
        "            LRU_cache.remove(block);\n",
        "            LFU_cache.append(block);\n",
        "            LFU_freq[block] = LRU_freq[block];\n",
        "            del LRU_freq[block];\n",
        "            # adding mini to LRU..\n",
        "            LFU_cache.remove(mini);\n",
        "            LRU_cache.append(mini);\n",
        "            LRU_freq[mini] = mini_freq;\n",
        "            del LFU_freq[mini];\n",
        "\n",
        "  hit_ratio = hits/(hits+miss);\n",
        "  return hit_ratio;"
      ],
      "execution_count": 3,
      "outputs": []
    },
    {
      "cell_type": "code",
      "metadata": {
        "id": "_o60F_WOf4LO"
      },
      "source": [
        "# convert .trace files to decimal accesses\n",
        "\n",
        "def list_trace(f1) :\n",
        "  l = f1.readlines();\n",
        "  ref = [];\n",
        "  for i in l :\n",
        "    s = i[2:12];\n",
        "    j = int(s,16);\n",
        "    ref.append(j);\n",
        "  return ref;"
      ],
      "execution_count": null,
      "outputs": []
    },
    {
      "cell_type": "code",
      "metadata": {
        "id": "zYPAVRujrJHu"
      },
      "source": [
        "# size = [7,8,9,10,11,12,13]\n",
        "\n",
        "# files = open('gzip.trace','r');\n",
        "# accesses = list_trace(files);\n",
        "# print(len(accesses))\n",
        "\n",
        "# opt_hit = []\n",
        "# lru_hit = []\n",
        "# lfu_hit = []\n",
        "# das_hit = []\n",
        "\n",
        "# for sz in size:\n",
        "#   lru_hit.append(LRU(accesses,2**sz)*100)\n",
        "#   lfu_hit.append(LFU(accesses,2**sz)*100)\n",
        "#   das_hit.append(DAS(accesses,2**sz)*100)\n",
        "#   print(sz)\n",
        "\n",
        "# dict = {'x': size, 'y': lru_hit} \n",
        "# lru_df = pd.DataFrame(dict)\n",
        "# lru_df.to_csv('gzip_lru.csv')\n",
        "# lru = pd.read_csv('gzip_lru.csv')\n",
        "\n",
        "# dict = {'x': size, 'y': lfu_hit} \n",
        "# lfu_df = pd.DataFrame(dict)\n",
        "# lfu_df.to_csv('gzip_lfu.csv')\n",
        "# lfu = pd.read_csv('gzip_lfu.csv')\n",
        "\n",
        "# dict = {'x': size, 'y': das_hit} \n",
        "# das_df = pd.DataFrame(dict)\n",
        "# das_df.to_csv('gzip_das.csv')\n",
        "# das = pd.read_csv('gzip_das.csv')"
      ],
      "execution_count": null,
      "outputs": []
    },
    {
      "cell_type": "code",
      "metadata": {
        "id": "GhgS04IGVvX9"
      },
      "source": [
        "# plt.plot(size,lru_hit, label = 'LRU')\n",
        "# plt.plot(size,lfu_hit, label = 'LFU')\n",
        "# plt.plot(size,das_hit, label = 'DAS')\n",
        "# plt.legend()\n",
        "# plt.title(\"Gzip Trace\")\n",
        "# plt.xlabel(\"Cache Size (2^size)\")\n",
        "# plt.ylabel(\"Hit Rate\")\n",
        "\n",
        "# plt.show()"
      ],
      "execution_count": null,
      "outputs": []
    },
    {
      "cell_type": "code",
      "metadata": {
        "colab": {
          "base_uri": "https://localhost:8080/",
          "height": 1000
        },
        "id": "CouXy5YEq8yk",
        "outputId": "8aec7073-5a70-47af-e5ca-73e6dab4a217"
      },
      "source": [
        "size =[50,100,150,200,250,300,350,400]\n",
        "partition = [0.2, 0.4, 0.6, 0.8];\n",
        "\n",
        "# files = open('lu.txt','r');\n",
        "# accesses = list_trace(files);\n",
        "# print(len(accesses))\n",
        "\n",
        "\n",
        "f = open('lu.txt','r');\n",
        "accesses = []\n",
        "\n",
        "for x in f:\n",
        "  accesses.append(int(x,16));\n",
        "\n",
        "\n",
        "for pt in partition:\n",
        "  das_hit = []\n",
        "  for sz in size:\n",
        "    das_hit.append(DAS(accesses,sz,pt)*100)\n",
        "  plt.plot(size,das_hit,label = (str)(pt*100) + \"% LRU\")\n",
        "\n",
        "plt.legend()\n",
        "plt.title(\"Optimal Partitioning for LU Trace\")\n",
        "plt.xlabel(\"Cache Size\")\n",
        "plt.ylabel(\"Hit Rate\")\n",
        "plt.show();\n",
        "\n",
        "\n",
        "\n"
      ],
      "execution_count": 6,
      "outputs": [
        {
          "output_type": "stream",
          "text": [
            "10\n",
            "40\n",
            "20\n",
            "80\n",
            "30\n",
            "120\n",
            "40\n",
            "160\n",
            "50\n",
            "200\n",
            "60\n",
            "240\n",
            "70\n",
            "280\n",
            "80\n",
            "320\n",
            "20\n",
            "30\n",
            "40\n",
            "60\n",
            "60\n",
            "90\n",
            "80\n",
            "120\n",
            "100\n",
            "150\n",
            "120\n",
            "180\n",
            "140\n",
            "210\n",
            "160\n",
            "240\n",
            "30\n",
            "20\n",
            "60\n",
            "40\n",
            "90\n",
            "60\n",
            "120\n",
            "80\n",
            "150\n",
            "100\n",
            "180\n",
            "120\n",
            "210\n",
            "140\n",
            "240\n",
            "160\n",
            "40\n",
            "10\n",
            "80\n",
            "20\n",
            "120\n",
            "30\n",
            "160\n",
            "40\n",
            "200\n",
            "50\n",
            "240\n",
            "60\n",
            "280\n",
            "70\n",
            "320\n",
            "80\n"
          ],
          "name": "stdout"
        },
        {
          "output_type": "display_data",
          "data": {
            "image/png": "[encoded data removed]",
            "text/plain": [
              "<Figure size 432x288 with 1 Axes>"
            ]
          },
          "metadata": {
            "tags": [],
            "needs_background": "light"
          }
        }
      ]
    }
  ]
}