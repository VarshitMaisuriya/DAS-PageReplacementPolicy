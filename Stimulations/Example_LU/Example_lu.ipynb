{
  "nbformat": 4,
  "nbformat_minor": 0,
  "metadata": {
    "colab": {
      "name": "Example_lu.ipynb",
      "provenance": []
    },
    "kernelspec": {
      "name": "python3",
      "display_name": "Python 3"
    },
    "language_info": {
      "name": "python"
    }
  },
  "cells": [
    {
      "cell_type": "code",
      "metadata": {
        "id": "PxJR3C-mh-K3"
      },
      "source": [
        "import numpy as np\n",
        "import pandas as pd\n",
        "import matplotlib.pyplot as plt\n",
        "from collections import deque, defaultdict"
      ],
      "execution_count": 9,
      "outputs": []
    },
    {
      "cell_type": "markdown",
      "metadata": {
        "id": "yMsHOCCbIJ8J"
      },
      "source": [
        "**Belady's OPT**"
      ]
    },
    {
      "cell_type": "code",
      "metadata": {
        "id": "UGiaNV02kocv"
      },
      "source": [
        "# function to find the next block to be evicted for OPT policy\n",
        "\n",
        "def find_farthest(cache, rem_accesses):\n",
        "  farthest = -1\n",
        "  idx_dict = {}\n",
        "\n",
        "  for blk in cache:\n",
        "    if blk not in rem_accesses:\n",
        "      farthest = blk\n",
        "      return farthest\n",
        "\n",
        "    else:\n",
        "      idx_dict[blk] = rem_accesses.index(blk)\n",
        "    \n",
        "  srt_dict = sorted(idx_dict.items(), key = lambda item: item[1], reverse = True)\n",
        "\n",
        "  return srt_dict[0][0]\n",
        "  "
      ],
      "execution_count": 3,
      "outputs": []
    },
    {
      "cell_type": "code",
      "metadata": {
        "id": "kqh7ZYZkkqsd"
      },
      "source": [
        "#Offline OPT replacement policy implementation\n",
        "\n",
        "def OPT(accesses,size):\n",
        "  cache = set()\n",
        "  hits = 0\n",
        "  misses = 0\n",
        "  isFull = False\n",
        "  \n",
        "  for i,blk in enumerate(accesses):\n",
        "\n",
        "    if blk in cache:\n",
        "      hits += 1\n",
        "      \n",
        "    else:\n",
        "      misses +=1\n",
        "\n",
        "      if (isFull == False):\n",
        "        cache.add(blk)\n",
        "        if(len(cache) == size):\n",
        "          isFull = True\n",
        "      else:\n",
        "        farthest = find_farthest(cache,accesses[i+1:])\n",
        "        cache.remove(farthest)\n",
        "        cache.add(blk)\n",
        "    #print(i+1,cache)\n",
        "\n",
        "  hit_rate = hits/(hits + misses)\n",
        "  return hit_rate"
      ],
      "execution_count": 4,
      "outputs": []
    },
    {
      "cell_type": "markdown",
      "metadata": {
        "id": "Mwttjao9IOLD"
      },
      "source": [
        "**LRU**"
      ]
    },
    {
      "cell_type": "code",
      "metadata": {
        "id": "AJ8NII9Gks6k"
      },
      "source": [
        "def LRU(accesses,size) :\n",
        "  hit = 0\n",
        "  miss = 0\n",
        "  cache = set()\n",
        "  recent_items = deque()\n",
        "\n",
        "  for item in accesses :\n",
        "    cur_size = len(cache)\n",
        "    if item in cache :\n",
        "      hit = hit + 1\n",
        "      recent_items.remove(item)\n",
        "      recent_items.append(item)\n",
        "\n",
        "    elif cur_size < size :\n",
        "      miss = miss + 1\n",
        "      recent_items.append(item)\n",
        "      cache.add(item)\n",
        "\n",
        "    else :\n",
        "      miss = miss + 1\n",
        "      removed_item = recent_items[0]\n",
        "      recent_items.popleft()\n",
        "      cache.remove(removed_item)\n",
        "      cache.add(item)\n",
        "      recent_items.append(item)\n",
        "    #print(cache)\n",
        "\n",
        "  hit_ratio = hit / (hit+miss)   \n",
        "  return hit_ratio \n"
      ],
      "execution_count": 5,
      "outputs": []
    },
    {
      "cell_type": "markdown",
      "metadata": {
        "id": "f4K_Bh80IRLa"
      },
      "source": [
        "**LFU**"
      ]
    },
    {
      "cell_type": "code",
      "metadata": {
        "id": "gR8rIg-9kvBb"
      },
      "source": [
        "def LFU(accesses,size):\n",
        "\n",
        "    hit = 0\n",
        "    miss = 0\n",
        "    \n",
        "    freq_cache = defaultdict(int)   #holds the frequency of all elements \n",
        "    freq = defaultdict(int)         #holds the frequency of elements present in cache\n",
        "    \n",
        "    cache = set()\n",
        "    \n",
        "    for block in accesses:\n",
        "        freq[block] += 1\n",
        "      \n",
        "        if block in cache:\n",
        "            hit += 1\n",
        "            freq_cache[block] += 1\n",
        "        \n",
        "        elif len(cache) < size:\n",
        "            cache.add(block)\n",
        "            freq_cache[block] += 1\n",
        "            miss += 1\n",
        "\n",
        "        else:\n",
        "            x, y = min(freq_cache.items(), key=lambda a: a[1])\n",
        "            freq_cache.pop(x)\n",
        "            cache.remove(x)\n",
        "            cache.add(block)\n",
        "            freq_cache[block] = freq[block]\n",
        "            miss += 1\n",
        "        #print(cache)\n",
        "    hit_rate = hit / ( hit + miss )\n",
        "    return hit_rate"
      ],
      "execution_count": 6,
      "outputs": []
    },
    {
      "cell_type": "markdown",
      "metadata": {
        "id": "2EwBwOCcITO7"
      },
      "source": [
        "**DAS**"
      ]
    },
    {
      "cell_type": "code",
      "metadata": {
        "id": "_MzU9_Frk1gC"
      },
      "source": [
        "def DAS(accesses,size):\n",
        "  # LRU portion and LFU portion..\n",
        "  LRU_size = (int)(0.8*size)\n",
        "  LFU_size = size-LRU_size\n",
        "\n",
        "  # print(LRU_size);\n",
        "  # print(LFU_size);\n",
        "  # variables to keep track of hits..\n",
        "  hits = miss = 0;\n",
        "  LRU_hit = LFU_hit = 0;\n",
        "\n",
        "  # LRU and LFU cache..\n",
        "  LRU_cache = deque();\n",
        "  LFU_cache = deque();\n",
        "\n",
        "  # map for storing frequencies..\n",
        "  LRU_freq = defaultdict(int);\n",
        "  LFU_freq = defaultdict(int);\n",
        "  freq = defaultdict(int);\n",
        "\n",
        "  for block in accesses :\n",
        "    freq[block] = freq[block]+1;\n",
        "\n",
        "    if block not in LRU_cache and block not in LFU_cache :\n",
        "      miss = miss+1;\n",
        "      # if space is available in cache..\n",
        "      if (len(LRU_cache)+len(LFU_cache)) < size :\n",
        "        # checking for LRU..\n",
        "        if len(LRU_cache) < LRU_size :\n",
        "          LRU_cache.append(block);\n",
        "          LRU_freq[block] += 1;\n",
        "        # checking for LFU..\n",
        "        elif len(LFU_cache) < LFU_size :\n",
        "          LFU_cache.append(block);\n",
        "          LFU_freq[block] += 1;\n",
        "      # if space is not available in cache..\n",
        "      else :\n",
        "        remove_block = LRU_cache.popleft();\n",
        "        del LRU_freq[remove_block];\n",
        "        LRU_cache.append(block);\n",
        "        LRU_freq[block] = freq[block];\n",
        "\n",
        "    else :\n",
        "      hits = hits+1;\n",
        "      # present in LFU cache..\n",
        "      if block in LFU_cache :\n",
        "        LFU_freq[block] += 1;\n",
        "        LFU_hit += 1;\n",
        "      # present in LRU cache..\n",
        "      elif block in LRU_cache :\n",
        "        LRU_freq[block] += 1;\n",
        "        LRU_hit += 1;\n",
        "        # we need to check whethe it can be added to LFU or not..\n",
        "        if len(LFU_cache) < LFU_size :\n",
        "          LRU_cache.remove(block);\n",
        "          LFU_freq[block] = LRU_freq[block];\n",
        "          LFU_cache.append(block);\n",
        "          del LRU_freq[block];\n",
        "        else :\n",
        "          mini,mini_freq = min(LFU_freq.items(),key = lambda a: a[1])\n",
        "          # if minimum frequency in LFU is less than block's frequency..swap these two..\n",
        "          if mini_freq < LRU_freq[block] :\n",
        "            # adding block to LFU..\n",
        "            LRU_cache.remove(block);\n",
        "            LFU_cache.append(block);\n",
        "            LFU_freq[block] = LRU_freq[block];\n",
        "            del LRU_freq[block];\n",
        "            # adding mini to LRU..\n",
        "            LFU_cache.remove(mini);\n",
        "            LRU_cache.append(mini);\n",
        "            LRU_freq[mini] = mini_freq;\n",
        "            del LFU_freq[mini];\n",
        "\n",
        "  hit_ratio = hits/(hits+miss);\n",
        "  return hit_ratio;"
      ],
      "execution_count": 7,
      "outputs": []
    },
    {
      "cell_type": "code",
      "metadata": {
        "id": "zYPAVRujrJHu"
      },
      "source": [
        "size = [50,100,150,200,250,300,350,400,450,500] #cache size\n",
        "\n",
        "f = open('lu','r');\n",
        "accesses = []\n",
        "\n",
        "for x in f:\n",
        "  accesses.append(int(x,16));\n",
        "\n",
        "opt_hit = []\n",
        "lru_hit = []\n",
        "lfu_hit = []\n",
        "das_hit = []\n",
        "\n",
        "for sz in size:\n",
        "  opt_hit.append(OPT(accesses,sz)*100)\n",
        "  lru_hit.append(LRU(accesses,sz)*100)\n",
        "  lfu_hit.append(LFU(accesses,sz)*100)\n",
        "  das_hit.append(DAS(accesses,sz)*100)\n",
        "\n",
        "dict = {'x': size, 'y': opt_hit} \n",
        "opt_df = pd.DataFrame(dict)\n",
        "opt_df.to_csv('lu_opt.csv')\n",
        "opt = pd.read_csv('lu_opt.csv')\n",
        "\n",
        "dict = {'x': size, 'y': lru_hit} \n",
        "lru_df = pd.DataFrame(dict)\n",
        "lru_df.to_csv('lu_lru.csv')\n",
        "lru = pd.read_csv('lu_lru.csv')\n",
        "\n",
        "dict = {'x': size, 'y': lfu_hit} \n",
        "lfu_df = pd.DataFrame(dict)\n",
        "lfu_df.to_csv('lu_lfu.csv')\n",
        "lfu = pd.read_csv('lu_lfu.csv')\n",
        "\n",
        "dict = {'x': size, 'y': das_hit} \n",
        "das_df = pd.DataFrame(dict)\n",
        "das_df.to_csv('lu_das.csv')\n",
        "das = pd.read_csv('lu_das.csv')"
      ],
      "execution_count": 11,
      "outputs": []
    },
    {
      "cell_type": "code",
      "metadata": {
        "id": "GhgS04IGVvX9",
        "colab": {
          "base_uri": "https://localhost:8080/",
          "height": 295
        },
        "outputId": "9229e8ad-ae1a-47e2-f3d0-06b12928f00d"
      },
      "source": [
        "plt.plot(size,opt_hit, label = 'OPT')\n",
        "plt.plot(size,lru_hit, label = 'LRU')\n",
        "plt.plot(size,lfu_hit, label = 'LFU')\n",
        "plt.plot(size,das_hit, label = 'DAS')\n",
        "plt.legend()\n",
        "plt.title(\"LU Decomposition\")\n",
        "plt.xlabel(\"Cache Size\")\n",
        "plt.ylabel(\"Hit Rate\")\n",
        "\n",
        "plt.show()"
      ],
      "execution_count": 12,
      "outputs": [
        {
          "output_type": "display_data",
          "data": {
            "image/png": "[encoded data removed]",
            "text/plain": [
              "<Figure size 432x288 with 1 Axes>"
            ]
          },
          "metadata": {
            "tags": [],
            "needs_background": "light"
          }
        }
      ]
    }
  ]
}